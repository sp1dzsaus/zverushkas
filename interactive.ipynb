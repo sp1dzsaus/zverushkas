{
 "cells": [
  {
   "cell_type": "markdown",
   "metadata": {},
   "source": [
    "**Внимание!**\n",
    "Если вы используете Google Collab для взаимодействия с проектом, обязательно запустите ячейку ниже для установки репозитория и необходимых библиотек. Спасибо!"
   ]
  },
  {
   "cell_type": "code",
   "execution_count": null,
   "metadata": {},
   "outputs": [],
   "source": [
    "!git clone -l -s https://github.com/sp1dzsaus/zverushkas cloned-repo\n",
    "%cd cloned-repo\n",
    "!ls\n",
    "!pip install -r requirements.txt"
   ]
  },
  {
   "cell_type": "code",
   "execution_count": null,
   "metadata": {},
   "outputs": [],
   "source": [
    "from bio import AnimalDraw, AnimalGenerator\n",
    "\n",
    "generator = AnimalGenerator(leg_count=2, length=20, straightness=0.15, gradation=100,\n",
    "                            gibbosity=10, distribution=(2, 10), spreadvalue=(10, 20))\n",
    "\n",
    "animal = generator.generate()\n",
    "AnimalDraw(animal).save_3d('result.stl')\n"
   ]
  },
  {
   "cell_type": "markdown",
   "metadata": {},
   "source": [
    "# **Зверюшки**"
   ]
  },
  {
   "cell_type": "code",
   "execution_count": null,
   "metadata": {},
   "outputs": [],
   "source": [
    "import os\n",
    "os.makedirs('output/')"
   ]
  },
  {
   "cell_type": "markdown",
   "metadata": {},
   "source": [
    "## Параметрический конструктор существ"
   ]
  },
  {
   "cell_type": "markdown",
   "metadata": {},
   "source": [
    "- `seed` - ключ генератора псевдослучайных чисел. Определяет общую форму животного.\n",
    "- `length` - количество позвонков животного.\n",
    "- `gradation` - монотонность длин позвонков.\n",
    "- `straightness` - прямота животного, монотонность углов позвонков.\n",
    "- `distribution` - монотонность толщины животного.\n",
    "- `leg_count` - количество пар лап.\n",
    "- `ground` - уровень высоты поверхности."
   ]
  },
  {
   "cell_type": "code",
   "execution_count": null,
   "metadata": {},
   "outputs": [],
   "source": [
    "from bio import Animal, AnimalDraw\n",
    "from ipywidgets import interact\n",
    "\n",
    "def animal_maker(seed, length, gradation, straightness, gibbosity, distribution, spreadvalue, leg_count, ground):\n",
    "    global DRAW\n",
    "    global ANIMAL\n",
    "    ANIMAL = Animal.from_params(length, gradation / 10, straightness / 50, distribution / 10, spreadvalue / 10, gibbosity / 10, leg_count, seed)\n",
    "    DRAW = AnimalDraw(ANIMAL)\n",
    "    DRAW.set_ground_level(1 - ground)\n",
    "    img1 = DRAW.draw(150)\n",
    "    img2 = DRAW.draw_from_above(150)\n",
    "    h = img1.height\n",
    "    img1 = img1.crop((0, 0, img1.width, img1.height + img2.height))\n",
    "    img1.paste(img2, (0, h))\n",
    "    return img1\n",
    "\n",
    "\n",
    "interact(animal_maker, seed=(1, 999999), length=(7, 15),\n",
    "         gradation=(2.0, 500.), straightness=(1.0, 500.0), gibbosity=(50.0, 500.0), distribution=(50.0, 500.0), spreadvalue=(50.0, 500.0),\n",
    "         leg_count=(1, 4), ground=(-1.00, 2.00))\n"
   ]
  },
  {
   "cell_type": "markdown",
   "metadata": {},
   "source": [
    "### Импорт животного в 3D модель STL"
   ]
  },
  {
   "cell_type": "code",
   "execution_count": null,
   "metadata": {},
   "outputs": [],
   "source": [
    "DRAW.save_3d('output/generated.stl')"
   ]
  },
  {
   "cell_type": "markdown",
   "metadata": {},
   "source": [
    "## Алгебра животных"
   ]
  },
  {
   "cell_type": "code",
   "execution_count": null,
   "metadata": {},
   "outputs": [],
   "source": [
    "from random import randint\n",
    "from bio import Animal, AnimalDraw\n",
    "from generators import *\n",
    "\n",
    "seed = randint(0, 999999)\n",
    "\n",
    "print('Общий сид:', seed)"
   ]
  },
  {
   "cell_type": "code",
   "execution_count": null,
   "metadata": {},
   "outputs": [],
   "source": [
    "animal1 = Default(seed, paramseed=randint(0, 999999))\n",
    "draw = AnimalDraw(animal1)\n",
    "draw.save_3d('output/father.stl')\n",
    "draw.draw(150)"
   ]
  },
  {
   "cell_type": "code",
   "execution_count": null,
   "metadata": {},
   "outputs": [],
   "source": [
    "animal2 = Default(seed, paramseed=randint(0, 999999))\n",
    "draw = AnimalDraw(animal2)\n",
    "draw.save_3d('output/mother.stl')\n",
    "draw.draw(150)"
   ]
  },
  {
   "cell_type": "markdown",
   "metadata": {},
   "source": [
    "### Интерполяция животных"
   ]
  },
  {
   "cell_type": "markdown",
   "metadata": {},
   "source": [
    "Плавный переход параметров из одного животного к другому.\n",
    "Может использоваться для роста конкретной особи или эволюции вида."
   ]
  },
  {
   "cell_type": "code",
   "execution_count": null,
   "metadata": {},
   "outputs": [],
   "source": [
    "from ipywidgets import interact\n",
    "from extra_maths import lerp, smoothstep\n",
    "\n",
    "child = None\n",
    "\n",
    "def animal_interpolator(percent):\n",
    "    global child\n",
    "    animal3 = Animal.from_array(seed, lerp(animal1.to_array(), animal2.to_array(), smoothstep(percent / 100)))\n",
    "    child = animal3\n",
    "    return AnimalDraw(animal3).draw(150)\n",
    "\n",
    "\n",
    "interact(animal_interpolator, percent=(0.00, 100.00))"
   ]
  },
  {
   "cell_type": "code",
   "execution_count": null,
   "metadata": {},
   "outputs": [],
   "source": [
    "draw = AnimalDraw(child)\n",
    "draw.save_3d('output/child.stl')"
   ]
  },
  {
   "cell_type": "markdown",
   "metadata": {},
   "source": [
    "### Скрещивание"
   ]
  },
  {
   "cell_type": "markdown",
   "metadata": {},
   "source": [
    "Случайное перемешивание параметров между двумя животными."
   ]
  },
  {
   "cell_type": "code",
   "execution_count": null,
   "metadata": {},
   "outputs": [],
   "source": [
    "import numpy as np\n",
    "from random import randint\n",
    "\n",
    "a = animal1.to_array()\n",
    "b = animal2.to_array()\n",
    "c = np.zeros(7)\n",
    "\n",
    "for i in range(7):\n",
    "    if randint(0, 1):\n",
    "        c[i] = a[i]\n",
    "    else:\n",
    "        c[i] = b[i]\n",
    "\n",
    "animal4 = Animal.from_array(seed, c)\n",
    "draw = AnimalDraw(animal4)\n",
    "draw.save_3d('output/child.stl')\n",
    "draw.draw(150)"
   ]
  }
 ],
 "metadata": {
  "interpreter": {
   "hash": "1574dca48e308cc3651c67f51f75a30afa86eab0bc083143ae8f6c47936081de"
  },
  "kernelspec": {
   "display_name": "Python 3.6.4 32-bit",
   "language": "python",
   "name": "python3"
  },
  "language_info": {
   "codemirror_mode": {
    "name": "ipython",
    "version": 3
   },
   "file_extension": ".py",
   "mimetype": "text/x-python",
   "name": "python",
   "nbconvert_exporter": "python",
   "pygments_lexer": "ipython3",
   "version": "3.6.4"
  }
 },
 "nbformat": 4,
 "nbformat_minor": 2
}
