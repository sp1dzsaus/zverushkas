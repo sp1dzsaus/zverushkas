{
 "cells": [
  {
   "cell_type": "markdown",
   "metadata": {},
   "source": [
    "**Внимание!**\n",
    "Если вы используете Google Collab для взаимодействия с проектом, обязательно запустите ячейку ниже для установки репозитория и необходимых библиотек. Спасибо!"
   ]
  },
  {
   "cell_type": "code",
   "execution_count": null,
   "metadata": {},
   "outputs": [],
   "source": [
    "!git clone -l -s https://github.com/sp1dzsaus/zverushkas cloned-repo\n",
    "%cd cloned-repo\n",
    "!ls\n",
    "!pip install -r requirements.txt"
   ]
  },
  {
   "cell_type": "markdown",
   "metadata": {},
   "source": [
    "# **Зверюшки**"
   ]
  },
  {
   "cell_type": "code",
   "execution_count": null,
   "metadata": {},
   "outputs": [],
   "source": [
    "import os\n",
    "os.makedirs('output/')"
   ]
  },
  {
   "cell_type": "markdown",
   "metadata": {},
   "source": [
    "## Параметрический конструктор существ"
   ]
  },
  {
   "cell_type": "markdown",
   "metadata": {},
   "source": [
    "- `seed` - ключ генератора псевдослучайных чисел. Определяет общую форму животного.\n",
    "- `length` - количество позвонков животного.\n",
    "- `gradation` - монотонность длин позвонков.\n",
    "- `straightness` - прямота животного, монотонность углов позвонков.\n",
    "- `distribution` - монотонность толщины животного.\n",
    "- `leg_count` - количество пар лап.\n",
    "- `ground` - уровень высоты поверхности."
   ]
  },
  {
   "cell_type": "code",
   "execution_count": 35,
   "metadata": {},
   "outputs": [
    {
     "data": {
      "application/vnd.jupyter.widget-view+json": {
       "model_id": "bcddec15eb68489c97c5366a595aabe1",
       "version_major": 2,
       "version_minor": 0
      },
      "text/plain": [
       "interactive(children=(IntSlider(value=500000, description='seed', max=999999, min=1), IntSlider(value=11, desc…"
      ]
     },
     "metadata": {},
     "output_type": "display_data"
    },
    {
     "data": {
      "text/plain": [
       "<function __main__.animal_maker(seed, length, gradation, straightness, gibbosity, distribution, spreadvalue, leg_count, ground)>"
      ]
     },
     "execution_count": 35,
     "metadata": {},
     "output_type": "execute_result"
    }
   ],
   "source": [
    "from bio import Animal, AnimalDraw\n",
    "from ipywidgets import interact\n",
    "from PIL import ImageDraw\n",
    "\n",
    "\n",
    "def animal_maker(seed, length, gradation, straightness, gibbosity, distribution, spreadvalue, leg_count, ground):\n",
    "    global DRAW\n",
    "    global ANIMAL\n",
    "    ANIMAL = Animal.from_params(length, gradation / 10, straightness / 50, distribution / 10, spreadvalue / 10, gibbosity / 10, leg_count, seed)\n",
    "    DRAW = AnimalDraw(ANIMAL)\n",
    "    DRAW.set_ground_level(1 - ground)\n",
    "    img1 = DRAW.draw(150)\n",
    "    img2 = DRAW.draw_from_above(150)\n",
    "    h = img1.height\n",
    "    img1 = img1.crop((0, 0, img1.width, img1.height + img2.height))\n",
    "    img1.paste(img2, (0, h))\n",
    "    return img1\n",
    "\n",
    "\n",
    "interact(animal_maker, seed=(1, 999999), length=(7, 15),\n",
    "         gradation=(2.0, 500.), straightness=(1.0, 500.0), gibbosity=(50.0, 500.0), distribution=(50.0, 500.0), spreadvalue=(50.0, 500.0),\n",
    "         leg_count=(1, 4), ground=(-1.00, 2.00))\n"
   ]
  },
  {
   "cell_type": "markdown",
   "metadata": {},
   "source": [
    "### Импорт животного в 3D модель STL"
   ]
  },
  {
   "cell_type": "code",
   "execution_count": 36,
   "metadata": {},
   "outputs": [],
   "source": [
    "DRAW.save_3d('output/generated.stl')"
   ]
  },
  {
   "cell_type": "markdown",
   "metadata": {},
   "source": [
    "## Алгебра животных"
   ]
  },
  {
   "cell_type": "code",
   "execution_count": 37,
   "metadata": {},
   "outputs": [
    {
     "name": "stdout",
     "output_type": "stream",
     "text": [
      "Общий сид: 540712\n"
     ]
    }
   ],
   "source": [
    "from random import randint\n",
    "from bio import Animal, AnimalDraw\n",
    "from presets import *\n",
    "\n",
    "seed = randint(0, 999999)\n",
    "\n",
    "print('Общий сид:', seed)"
   ]
  },
  {
   "cell_type": "code",
   "execution_count": 47,
   "metadata": {},
   "outputs": [
    {
     "data": {
      "image/png": "[encoded data removed]",
      "text/plain": [
       "<PIL.Image.Image image mode=RGBA size=212x161 at 0x1B48FC4DE50>"
      ]
     },
     "execution_count": 47,
     "metadata": {},
     "output_type": "execute_result"
    }
   ],
   "source": [
    "animal1 = Mamal(seed, paramseed=randint(0, 999999))\n",
    "draw = AnimalDraw(animal1)\n",
    "draw.save_3d('output/father.stl')\n",
    "draw.draw(150)"
   ]
  },
  {
   "cell_type": "code",
   "execution_count": 48,
   "metadata": {},
   "outputs": [
    {
     "data": {
      "image/png": "[encoded data removed]",
      "text/plain": [
       "<PIL.Image.Image image mode=RGBA size=230x176 at 0x1B48C2E3A60>"
      ]
     },
     "execution_count": 48,
     "metadata": {},
     "output_type": "execute_result"
    }
   ],
   "source": [
    "animal2 = Dragon(seed, paramseed=randint(0, 999999))\n",
    "draw = AnimalDraw(animal2)\n",
    "draw.save_3d('output/mother.stl')\n",
    "draw.draw(150)"
   ]
  },
  {
   "cell_type": "markdown",
   "metadata": {},
   "source": [
    "### Интерполяция животных"
   ]
  },
  {
   "cell_type": "markdown",
   "metadata": {},
   "source": [
    "Плавный переход параметров из одного животного к другому.\n",
    "Может использоваться для роста конкретной особи или эволюции вида."
   ]
  },
  {
   "cell_type": "code",
   "execution_count": 49,
   "metadata": {},
   "outputs": [
    {
     "data": {
      "application/vnd.jupyter.widget-view+json": {
       "model_id": "60084bb20caa400b88f8f8c3d97382c8",
       "version_major": 2,
       "version_minor": 0
      },
      "text/plain": [
       "interactive(children=(FloatSlider(value=50.0, description='percent'), Output()), _dom_classes=('widget-interac…"
      ]
     },
     "metadata": {},
     "output_type": "display_data"
    },
    {
     "data": {
      "text/plain": [
       "<function __main__.animal_interpolator(percent)>"
      ]
     },
     "execution_count": 49,
     "metadata": {},
     "output_type": "execute_result"
    }
   ],
   "source": [
    "from ipywidgets import interact\n",
    "from extra_maths import lerp, smoothstep\n",
    "\n",
    "child = None\n",
    "\n",
    "def animal_interpolator(percent):\n",
    "    global child\n",
    "    animal3 = Animal.from_array(seed, lerp(animal1.to_array(), animal2.to_array(), smoothstep(percent / 100)))\n",
    "    child = animal3\n",
    "    return AnimalDraw(animal3).draw(150)\n",
    "\n",
    "\n",
    "interact(animal_interpolator, percent=(0.00, 100.00))"
   ]
  },
  {
   "cell_type": "code",
   "execution_count": 50,
   "metadata": {},
   "outputs": [],
   "source": [
    "draw = AnimalDraw(child)\n",
    "draw.save_3d('output/child.stl')"
   ]
  },
  {
   "cell_type": "markdown",
   "metadata": {},
   "source": [
    "### Скрещивание"
   ]
  },
  {
   "cell_type": "markdown",
   "metadata": {},
   "source": [
    "Случайное перемешивание параметров между двумя животными."
   ]
  },
  {
   "cell_type": "code",
   "execution_count": 56,
   "metadata": {},
   "outputs": [
    {
     "data": {
      "image/png": "[encoded data removed]",
      "text/plain": [
       "<PIL.Image.Image image mode=RGBA size=215x169 at 0x1B49E676FA0>"
      ]
     },
     "execution_count": 56,
     "metadata": {},
     "output_type": "execute_result"
    }
   ],
   "source": [
    "import numpy as np\n",
    "from random import randint\n",
    "\n",
    "a = animal1.to_array()\n",
    "b = animal2.to_array()\n",
    "c = np.zeros(7)\n",
    "\n",
    "for i in range(7):\n",
    "    if randint(0, 1):\n",
    "        c[i] = a[i]\n",
    "    else:\n",
    "        c[i] = b[i]\n",
    "\n",
    "animal4 = Animal.from_array(seed, c)\n",
    "draw = AnimalDraw(animal4)\n",
    "draw.save_3d('output/child.stl')\n",
    "draw.draw(150)"
   ]
  }
 ],
 "metadata": {
  "interpreter": {
   "hash": "2cd0f7e54374e475b1f68fc6f4ef4af5dc9413ea62206865b703e41e05fd0a58"
  },
  "kernelspec": {
   "display_name": "Python 3.9.6 64-bit",
   "language": "python",
   "name": "python3"
  },
  "language_info": {
   "codemirror_mode": {
    "name": "ipython",
    "version": 3
   },
   "file_extension": ".py",
   "mimetype": "text/x-python",
   "name": "python",
   "nbconvert_exporter": "python",
   "pygments_lexer": "ipython3",
   "version": "3.9.6"
  }
 },
 "nbformat": 4,
 "nbformat_minor": 2
}
