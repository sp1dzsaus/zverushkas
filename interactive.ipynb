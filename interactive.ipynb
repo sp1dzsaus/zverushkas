{
 "cells": [
  {
   "cell_type": "markdown",
   "metadata": {},
   "source": [
    "# Зверюшки"
   ]
  },
  {
   "cell_type": "markdown",
   "metadata": {},
   "source": [
    "## Генераторы существ "
   ]
  },
  {
   "cell_type": "markdown",
   "metadata": {},
   "source": [
    "### Млекопитающее"
   ]
  },
  {
   "cell_type": "code",
   "execution_count": 49,
   "metadata": {},
   "outputs": [
    {
     "data": {
      "image/png": "[encoded data removed]",
      "text/plain": [
       "<PIL.Image.Image image mode=RGBA size=298x374 at 0x61ADF30>"
      ]
     },
     "execution_count": 49,
     "metadata": {},
     "output_type": "execute_result"
    }
   ],
   "source": [
    "from presets import Mamal\n",
    "from random import randint\n",
    "from bio import AnimalDraw\n",
    "\n",
    "a = Mamal(randint(1, 9999999999))\n",
    "AnimalDraw(a).draw(250)"
   ]
  },
  {
   "cell_type": "markdown",
   "metadata": {},
   "source": [
    "### Птица\n"
   ]
  },
  {
   "cell_type": "code",
   "execution_count": 31,
   "metadata": {},
   "outputs": [
    {
     "data": {
      "image/png": "[encoded data removed]",
      "text/plain": [
       "<PIL.Image.Image image mode=RGBA size=275x345 at 0x5FD9330>"
      ]
     },
     "execution_count": 31,
     "metadata": {},
     "output_type": "execute_result"
    }
   ],
   "source": [
    "from presets import Bird\n",
    "from random import randint\n",
    "from bio import AnimalDraw\n",
    "\n",
    "a = Bird(randint(1, 9999999999))\n",
    "AnimalDraw(a).draw(250)"
   ]
  },
  {
   "cell_type": "markdown",
   "metadata": {},
   "source": [
    "### Дракон"
   ]
  },
  {
   "cell_type": "code",
   "execution_count": 57,
   "metadata": {},
   "outputs": [
    {
     "data": {
      "image/png": "[encoded data removed]",
      "text/plain": [
       "<PIL.Image.Image image mode=RGBA size=583x516 at 0x9F28D0>"
      ]
     },
     "execution_count": 57,
     "metadata": {},
     "output_type": "execute_result"
    }
   ],
   "source": [
    "from presets import Dragon\n",
    "from random import randint\n",
    "from bio import AnimalDraw\n",
    "\n",
    "a = Dragon(randint(1, 9999999999))\n",
    "AnimalDraw(a).draw(250)"
   ]
  },
  {
   "cell_type": "markdown",
   "metadata": {},
   "source": [
    "### Насекомое"
   ]
  },
  {
   "cell_type": "code",
   "execution_count": 37,
   "metadata": {},
   "outputs": [
    {
     "data": {
      "image/png": "[encoded data removed]",
      "text/plain": [
       "<PIL.Image.Image image mode=RGBA size=418x276 at 0x5ACA9B0>"
      ]
     },
     "execution_count": 37,
     "metadata": {},
     "output_type": "execute_result"
    }
   ],
   "source": [
    "from presets import Insect\n",
    "from random import randint\n",
    "from bio import AnimalDraw\n",
    "\n",
    "a = Insect(randint(1, 9999999999))\n",
    "AnimalDraw(a).draw(250)"
   ]
  },
  {
   "cell_type": "markdown",
   "metadata": {},
   "source": [
    "## Параметрический конструктор существ"
   ]
  },
  {
   "cell_type": "markdown",
   "metadata": {},
   "source": [
    "- `seed` - ключ генератора псевдослучайных чисел. Определяет общую форму животного.\n",
    "- `length` - количество позвонков животного.\n",
    "- `gradation` - монотонность длин позвонков.\n",
    "- `straightness` - прямота животного, монотонность углов позвонков.\n",
    "- `distribution` - монотонность толщины животного.\n",
    "- `leg_count` - количество пар лап.\n",
    "- `ground` - уровень высоты поверхности."
   ]
  },
  {
   "cell_type": "code",
   "execution_count": 11,
   "metadata": {},
   "outputs": [
    {
     "data": {
      "application/vnd.jupyter.widget-view+json": {
       "model_id": "7705af1c96e9493480070da65cc221d2",
       "version_major": 2,
       "version_minor": 0
      },
      "text/plain": [
       "interactive(children=(IntSlider(value=500000, description='seed', max=999999, min=1), IntSlider(value=11, desc…"
      ]
     },
     "metadata": {},
     "output_type": "display_data"
    },
    {
     "data": {
      "text/plain": [
       "<function __main__.animal_maker(seed, length, gradation, straightness, distribution, leg_count, ground)>"
      ]
     },
     "execution_count": 11,
     "metadata": {},
     "output_type": "execute_result"
    }
   ],
   "source": [
    "from bio import Animal, AnimalDraw\n",
    "from ipywidgets import interact\n",
    "\n",
    "\n",
    "def animal_maker(seed, length, gradation, straightness, distribution, leg_count, ground):\n",
    "    global DRAW\n",
    "    animal = Animal.from_params(length, gradation / 10, straightness / 50, distribution / 10, leg_count, seed)\n",
    "    DRAW = AnimalDraw(animal)\n",
    "    DRAW.set_ground_level(1 - ground)\n",
    "    return DRAW.draw(150)\n",
    "\n",
    "\n",
    "interact(animal_maker, seed=(1, 999999), length=(7, 15),\n",
    "         gradation=(2.0, 500.), straightness=(1.0, 500.0), distribution=(50.0, 500.0), leg_count=(1, 4),\n",
    "         ground=(-1.00, 2.00))\n"
   ]
  },
  {
   "cell_type": "markdown",
   "metadata": {},
   "source": [
    "### Импорт животного в 3D модель STL"
   ]
  },
  {
   "cell_type": "code",
   "execution_count": 12,
   "metadata": {},
   "outputs": [],
   "source": [
    "DRAW.save_3d('test.stl')"
   ]
  }
 ],
 "metadata": {
  "kernelspec": {
   "display_name": "Python 3",
   "language": "python",
   "name": "python3"
  },
  "language_info": {
   "codemirror_mode": {
    "name": "ipython",
    "version": 3
   },
   "file_extension": ".py",
   "mimetype": "text/x-python",
   "name": "python",
   "nbconvert_exporter": "python",
   "pygments_lexer": "ipython3",
   "version": "3.6.4"
  }
 },
 "nbformat": 4,
 "nbformat_minor": 2
}
