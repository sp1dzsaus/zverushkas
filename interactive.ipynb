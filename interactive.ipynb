{
 "cells": [
  {
   "cell_type": "markdown",
   "metadata": {},
   "source": [
    "**Внимание!**\n",
    "Если вы используете Google Collab для взаимодействия с проектом, обязательно запустите ячейку ниже для установки репозитория и необходимых библиотек. Спасибо!"
   ]
  },
  {
   "cell_type": "code",
   "execution_count": 1,
   "metadata": {},
   "outputs": [
    {
     "name": "stdout",
     "output_type": "stream",
     "text": [
      "d:\\SP1DZMAIN\\PROJECTS\\Zverushkas\\zverushkas\\cloned-repo\n"
     ]
    },
    {
     "name": "stderr",
     "output_type": "stream",
     "text": [
      "Cloning into 'cloned-repo'...\n",
      "warning: --local is ignored\n",
      "\"ls\" �� ���� ����७��� ��� ���譥�\n",
      "��������, �ᯮ��塞�� �ணࠬ��� ��� ������ 䠩���.\n"
     ]
    },
    {
     "name": "stdout",
     "output_type": "stream",
     "text": [
      "Defaulting to user installation because normal site-packages is not writeable\n",
      "Requirement already satisfied: numpy==1.18.2 in c:\\program files (x86)\\python36-32\\lib\\site-packages (from -r requirements.txt (line 1)) (1.18.2)\n",
      "Requirement already satisfied: numpy-stl==2.16.3 in c:\\program files (x86)\\python36-32\\lib\\site-packages (from -r requirements.txt (line 2)) (2.16.3)\n",
      "Requirement already satisfied: Pillow==7.0.0 in c:\\program files (x86)\\python36-32\\lib\\site-packages (from -r requirements.txt (line 3)) (7.0.0)\n",
      "Requirement already satisfied: python-utils>=1.6.2 in c:\\program files (x86)\\python36-32\\lib\\site-packages (from numpy-stl==2.16.3->-r requirements.txt (line 2)) (3.0.0)\n"
     ]
    },
    {
     "name": "stderr",
     "output_type": "stream",
     "text": [
      "WARNING: Ignoring invalid distribution -yopengl-accelerate (c:\\program files (x86)\\python36-32\\lib\\site-packages)\n",
      "WARNING: Ignoring invalid distribution -yopengl-accelerate (c:\\program files (x86)\\python36-32\\lib\\site-packages)\n",
      "WARNING: Ignoring invalid distribution -yopengl-accelerate (c:\\program files (x86)\\python36-32\\lib\\site-packages)\n",
      "WARNING: Ignoring invalid distribution -yopengl-accelerate (c:\\program files (x86)\\python36-32\\lib\\site-packages)\n"
     ]
    }
   ],
   "source": [
    "!git clone -l -s https://github.com/sp1dzsaus/zverushkas cloned-repo\n",
    "%cd cloned-repo\n",
    "!ls\n",
    "!pip install -r requirements.txt"
   ]
  },
  {
   "cell_type": "markdown",
   "metadata": {},
   "source": [
    "# **Зверюшки**"
   ]
  },
  {
   "cell_type": "markdown",
   "metadata": {},
   "source": [
    "## Генераторы существ "
   ]
  },
  {
   "cell_type": "code",
   "execution_count": 2,
   "metadata": {},
   "outputs": [
    {
     "data": {
      "image/png": "[encoded data removed]",
      "text/plain": [
       "<PIL.Image.Image image mode=RGBA size=118x138 at 0x64F6BF0>"
      ]
     },
     "execution_count": 2,
     "metadata": {},
     "output_type": "execute_result"
    }
   ],
   "source": [
    "from presets import Default\n",
    "from random import randint\n",
    "from bio import AnimalDraw\n",
    "\n",
    "a = Default(randint(1, 9999999999))\n",
    "AnimalDraw(a).draw(250)"
   ]
  },
  {
   "cell_type": "markdown",
   "metadata": {},
   "source": [
    "### Млекопитающее"
   ]
  },
  {
   "cell_type": "code",
   "execution_count": 3,
   "metadata": {},
   "outputs": [
    {
     "data": {
      "image/png": "[encoded data removed]",
      "text/plain": [
       "<PIL.Image.Image image mode=RGBA size=147x215 at 0x65B4FB0>"
      ]
     },
     "execution_count": 3,
     "metadata": {},
     "output_type": "execute_result"
    }
   ],
   "source": [
    "from presets import Mamal\n",
    "from random import randint\n",
    "from bio import AnimalDraw\n",
    "\n",
    "a = Mamal(randint(1, 9999999999))\n",
    "AnimalDraw(a).draw(250)"
   ]
  },
  {
   "cell_type": "markdown",
   "metadata": {},
   "source": [
    "### Птица\n"
   ]
  },
  {
   "cell_type": "code",
   "execution_count": null,
   "metadata": {},
   "outputs": [],
   "source": []
  },
  {
   "cell_type": "code",
   "execution_count": 29,
   "metadata": {},
   "outputs": [
    {
     "data": {
      "image/png": "[encoded data removed]",
      "text/plain": [
       "<PIL.Image.Image image mode=RGBA size=350x301 at 0x2A01D320880>"
      ]
     },
     "execution_count": 29,
     "metadata": {},
     "output_type": "execute_result"
    }
   ],
   "source": [
    "from presets import Bird\n",
    "from random import randint\n",
    "from bio import AnimalDraw\n",
    "\n",
    "a = Bird(randint(1, 9999999999))\n",
    "AnimalDraw(a).draw(250)"
   ]
  },
  {
   "cell_type": "markdown",
   "metadata": {},
   "source": [
    "### Дракон"
   ]
  },
  {
   "cell_type": "code",
   "execution_count": 5,
   "metadata": {},
   "outputs": [
    {
     "data": {
      "image/png": "[encoded data removed]",
      "text/plain": [
       "<PIL.Image.Image image mode=RGBA size=478x264 at 0x64F32B0>"
      ]
     },
     "execution_count": 5,
     "metadata": {},
     "output_type": "execute_result"
    }
   ],
   "source": [
    "from presets import Dragon\n",
    "from random import randint\n",
    "from bio import AnimalDraw\n",
    "\n",
    "a = Dragon(randint(1, 9999999999))\n",
    "AnimalDraw(a).draw(250)"
   ]
  },
  {
   "cell_type": "markdown",
   "metadata": {},
   "source": [
    "### Насекомое"
   ]
  },
  {
   "cell_type": "code",
   "execution_count": 6,
   "metadata": {},
   "outputs": [
    {
     "data": {
      "image/png": "[encoded data removed]",
      "text/plain": [
       "<PIL.Image.Image image mode=RGBA size=240x220 at 0x65C8070>"
      ]
     },
     "execution_count": 6,
     "metadata": {},
     "output_type": "execute_result"
    }
   ],
   "source": [
    "from presets import Insect\n",
    "from random import randint\n",
    "from bio import AnimalDraw\n",
    "\n",
    "a = Insect(randint(1, 9999999999))\n",
    "AnimalDraw(a).draw(250)"
   ]
  },
  {
   "cell_type": "markdown",
   "metadata": {},
   "source": [
    "## Параметрический конструктор существ"
   ]
  },
  {
   "cell_type": "markdown",
   "metadata": {},
   "source": [
    "- `seed` - ключ генератора псевдослучайных чисел. Определяет общую форму животного.\n",
    "- `length` - количество позвонков животного.\n",
    "- `gradation` - монотонность длин позвонков.\n",
    "- `straightness` - прямота животного, монотонность углов позвонков.\n",
    "- `distribution` - монотонность толщины животного.\n",
    "- `leg_count` - количество пар лап.\n",
    "- `ground` - уровень высоты поверхности."
   ]
  },
  {
   "cell_type": "code",
   "execution_count": 1,
   "metadata": {},
   "outputs": [
    {
     "data": {
      "application/vnd.jupyter.widget-view+json": {
       "model_id": "497d040952494950a7c791fd90cc4b9d",
       "version_major": 2,
       "version_minor": 0
      },
      "text/plain": [
       "interactive(children=(IntSlider(value=500000, description='seed', max=999999, min=1), IntSlider(value=11, desc…"
      ]
     },
     "metadata": {},
     "output_type": "display_data"
    },
    {
     "data": {
      "text/plain": [
       "<function __main__.animal_maker(seed, length, gradation, straightness, distribution, spreadvalue, leg_count, ground)>"
      ]
     },
     "execution_count": 1,
     "metadata": {},
     "output_type": "execute_result"
    }
   ],
   "source": [
    "from bio import Animal, AnimalDraw\n",
    "from ipywidgets import interact\n",
    "from PIL import ImageDraw\n",
    "\n",
    "\n",
    "def animal_maker(seed, length, gradation, straightness, distribution, spreadvalue, leg_count, ground):\n",
    "    global DRAW\n",
    "    global ANIMAL\n",
    "    ANIMAL = Animal.from_params(length, gradation / 10, straightness / 50, distribution / 10, spreadvalue / 10, leg_count, seed)\n",
    "    DRAW = AnimalDraw(ANIMAL)\n",
    "    DRAW.set_ground_level(1 - ground)\n",
    "    img1 = DRAW.draw(150)\n",
    "    img2 = DRAW.draw_from_above(150)\n",
    "    h = img1.height\n",
    "    img1 = img1.crop((0, 0, img1.width, img1.height + img2.height))\n",
    "    img1.paste(img2, (0, h))\n",
    "    return img1\n",
    "\n",
    "\n",
    "interact(animal_maker, seed=(1, 999999), length=(7, 15),\n",
    "         gradation=(2.0, 500.), straightness=(1.0, 500.0), distribution=(50.0, 500.0), spreadvalue=(50.0, 500.0),\n",
    "         leg_count=(1, 4), ground=(-1.00, 2.00))\n"
   ]
  },
  {
   "cell_type": "markdown",
   "metadata": {},
   "source": [
    "### Импорт животного в 3D модель STL"
   ]
  },
  {
   "cell_type": "code",
   "execution_count": 2,
   "metadata": {},
   "outputs": [],
   "source": [
    "DRAW.save_3d('test.stl')"
   ]
  },
  {
   "cell_type": "markdown",
   "metadata": {},
   "source": [
    "## Алгебра животных"
   ]
  },
  {
   "cell_type": "code",
   "execution_count": 9,
   "metadata": {},
   "outputs": [
    {
     "name": "stdout",
     "output_type": "stream",
     "text": [
      "Общий сид: 340109\n"
     ]
    }
   ],
   "source": [
    "from random import randint\n",
    "from bio import Animal, AnimalDraw\n",
    "from presets import *\n",
    "\n",
    "seed = randint(0, 999999)\n",
    "\n",
    "print('Общий сид:', seed)"
   ]
  },
  {
   "cell_type": "code",
   "execution_count": 19,
   "metadata": {},
   "outputs": [
    {
     "data": {
      "image/png": "[encoded data removed]",
      "text/plain": [
       "<PIL.Image.Image image mode=RGBA size=86x95 at 0x65B4E50>"
      ]
     },
     "execution_count": 19,
     "metadata": {},
     "output_type": "execute_result"
    }
   ],
   "source": [
    "animal1 = Default(seed, paramseed=randint(0, 999999))\n",
    "AnimalDraw(animal1).draw(150)"
   ]
  },
  {
   "cell_type": "code",
   "execution_count": 25,
   "metadata": {},
   "outputs": [
    {
     "data": {
      "image/png": "[encoded data removed]",
      "text/plain": [
       "<PIL.Image.Image image mode=RGBA size=151x78 at 0xE399590>"
      ]
     },
     "execution_count": 25,
     "metadata": {},
     "output_type": "execute_result"
    }
   ],
   "source": [
    "animal2 = Dragon(seed, paramseed=randint(0, 999999))\n",
    "AnimalDraw(animal2).draw(150)"
   ]
  },
  {
   "cell_type": "markdown",
   "metadata": {},
   "source": [
    "### Интерполяция животных"
   ]
  },
  {
   "cell_type": "markdown",
   "metadata": {},
   "source": [
    "Плавный переход параметров из одного животного к другому.\n",
    "Может использоваться для роста конкретной особи или эволюции вида."
   ]
  },
  {
   "cell_type": "code",
   "execution_count": 26,
   "metadata": {},
   "outputs": [
    {
     "data": {
      "application/vnd.jupyter.widget-view+json": {
       "model_id": "b3ec9b6c2b8d4ead8ca45e29450c4193",
       "version_major": 2,
       "version_minor": 0
      },
      "text/plain": [
       "interactive(children=(FloatSlider(value=50.0, description='percent'), Output()), _dom_classes=('widget-interac…"
      ]
     },
     "metadata": {},
     "output_type": "display_data"
    },
    {
     "data": {
      "text/plain": [
       "<function __main__.animal_interpolator(percent)>"
      ]
     },
     "execution_count": 26,
     "metadata": {},
     "output_type": "execute_result"
    }
   ],
   "source": [
    "from ipywidgets import interact\n",
    "from extra_maths import lerp, smoothstep\n",
    "\n",
    "\n",
    "def animal_interpolator(percent):\n",
    "    animal3 = Animal.from_array(seed, lerp(animal1.to_array(), animal2.to_array(), smoothstep(percent / 100)))\n",
    "    return AnimalDraw(animal3).draw(150)\n",
    "\n",
    "\n",
    "interact(animal_interpolator, percent=(0.00, 100.00))"
   ]
  },
  {
   "cell_type": "markdown",
   "metadata": {},
   "source": [
    "### Скрещивание"
   ]
  },
  {
   "cell_type": "markdown",
   "metadata": {},
   "source": [
    "Случайное перемешивание параметров между двумя животными."
   ]
  },
  {
   "cell_type": "code",
   "execution_count": 27,
   "metadata": {},
   "outputs": [
    {
     "data": {
      "image/png": "[encoded data removed]",
      "text/plain": [
       "<PIL.Image.Image image mode=RGBA size=152x60 at 0xE399E50>"
      ]
     },
     "execution_count": 27,
     "metadata": {},
     "output_type": "execute_result"
    }
   ],
   "source": [
    "import numpy as np\n",
    "from random import randint\n",
    "\n",
    "a = animal1.to_array()\n",
    "b = animal2.to_array()\n",
    "c = np.zeros(5)\n",
    "\n",
    "for i in range(5):\n",
    "    if randint(0, 1):\n",
    "        c[i] = a[i]\n",
    "    else:\n",
    "        c[i] = b[i]\n",
    "\n",
    "animal4 = Animal.from_array(seed, c)\n",
    "AnimalDraw(animal4).draw(150)"
   ]
  }
 ],
 "metadata": {
  "interpreter": {
   "hash": "1574dca48e308cc3651c67f51f75a30afa86eab0bc083143ae8f6c47936081de"
  },
  "kernelspec": {
   "display_name": "Python 3.6.4 32-bit",
   "language": "python",
   "name": "python3"
  },
  "language_info": {
   "codemirror_mode": {
    "name": "ipython",
    "version": 3
   },
   "file_extension": ".py",
   "mimetype": "text/x-python",
   "name": "python",
   "nbconvert_exporter": "python",
   "pygments_lexer": "ipython3",
   "version": "3.9.6"
  }
 },
 "nbformat": 4,
 "nbformat_minor": 2
}
