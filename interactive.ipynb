{
 "cells": [
  {
   "cell_type": "code",
   "execution_count": 1,
   "metadata": {},
   "outputs": [
    {
     "data": {
      "application/vnd.jupyter.widget-view+json": {
       "model_id": "17e8a063a2984d3c9597bbec7d8e1064",
       "version_major": 2,
       "version_minor": 0
      },
      "text/plain": [
       "interactive(children=(IntSlider(value=500000, description='seed', max=999999, min=1), IntSlider(value=11, desc…"
      ]
     },
     "metadata": {},
     "output_type": "display_data"
    },
    {
     "data": {
      "text/plain": [
       "<function __main__.animal(seed, length, gradation, straightness, distribution, leg_count, ground)>"
      ]
     },
     "execution_count": 1,
     "metadata": {},
     "output_type": "execute_result"
    }
   ],
   "source": [
    "from bio import Animal, AnimalDraw\n",
    "from ipywidgets import interact\n",
    "\n",
    "\n",
    "def animal(seed, length, gradation, straightness, distribution, leg_count, ground):\n",
    "    a = Animal.from_params(length, gradation / 10, straightness /10, distribution / 10, min(leg_count, length - 1), seed)\n",
    "    return AnimalDraw(a).draw(150, ground=ground)\n",
    "\n",
    "\n",
    "interact(animal, seed=(1, 999999), length=(7, 15),\n",
    "         gradation=(2.0, 500.), straightness=(1.0, 500.0), distribution=(50.0, 500.0), leg_count=(1, 8),\n",
    "         ground=(0, 150))\n"
   ]
  },
  {
   "cell_type": "code",
   "execution_count": null,
   "metadata": {},
   "outputs": [],
   "source": []
  }
 ],
 "metadata": {
  "kernelspec": {
   "display_name": "Python 3",
   "language": "python",
   "name": "python3"
  },
  "language_info": {
   "codemirror_mode": {
    "name": "ipython",
    "version": 3
   },
   "file_extension": ".py",
   "mimetype": "text/x-python",
   "name": "python",
   "nbconvert_exporter": "python",
   "pygments_lexer": "ipython3",
   "version": "3.6.4"
  }
 },
 "nbformat": 4,
 "nbformat_minor": 2
}
